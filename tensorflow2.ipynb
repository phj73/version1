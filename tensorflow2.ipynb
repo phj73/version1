{
  "nbformat": 4,
  "nbformat_minor": 0,
  "metadata": {
    "colab": {
      "name": "tensorflow2.ipynb",
      "provenance": [],
      "authorship_tag": "ABX9TyOZ48BuG97hCgAyDs91iA8R",
      "include_colab_link": true
    },
    "kernelspec": {
      "name": "python3",
      "display_name": "Python 3"
    },
    "accelerator": "TPU"
  },
  "cells": [
    {
      "cell_type": "markdown",
      "metadata": {
        "id": "view-in-github",
        "colab_type": "text"
      },
      "source": [
        "<a href=\"https://colab.research.google.com/github/phj73/version1/blob/master/tensorflow2.ipynb\" target=\"_parent\"><img src=\"https://colab.research.google.com/assets/colab-badge.svg\" alt=\"Open In Colab\"/></a>"
      ]
    },
    {
      "cell_type": "code",
      "metadata": {
        "id": "MD1ZszGfUaSg"
      },
      "source": [
        "import tensorflow as tf"
      ],
      "execution_count": null,
      "outputs": []
    },
    {
      "cell_type": "code",
      "metadata": {
        "id": "n6rrB3FpTlJG"
      },
      "source": [
        "import math\n",
        "def sigmoid(x) :\n",
        "  return 1/(1+math.exp(-x))"
      ],
      "execution_count": null,
      "outputs": []
    },
    {
      "cell_type": "code",
      "metadata": {
        "id": "jIpr_K-rTsTU"
      },
      "source": [
        "x = 0\n",
        "y = 1\n",
        "w = tf.random.normal([1],0,1)\n",
        "b = tf.random.normal([1],0,1)"
      ],
      "execution_count": null,
      "outputs": []
    },
    {
      "cell_type": "code",
      "metadata": {
        "id": "9F6EckVVTz9b"
      },
      "source": [
        "for i in range(4000\n",
        "               ):\n",
        "  output = sigmoid(x*w + 1 + b)     # output(결과값)\n",
        "  error = y-output          # error(현재에러값)\n",
        "  w = w + x * 0.1 * error   # w(학습된 가중치), weight\n",
        "  b = b + 1 * 0.1 * error   # b(편향), bias\n",
        "\n",
        "\n",
        "  if i % 100 == 99 :     # %는 나머지 구하기, 나머지가 99일때마다 출력하라는 의미, 99 199 299 399.....\n",
        "    print(i, error, output)"
      ],
      "execution_count": null,
      "outputs": []
    }
  ]
}